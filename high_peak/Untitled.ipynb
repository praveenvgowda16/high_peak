{
 "cells": [
  {
   "cell_type": "code",
   "execution_count": 524,
   "metadata": {},
   "outputs": [],
   "source": [
    "from itertools import combinations\n",
    "file1 = open(\"input.txt\",\"r\")\n",
    "goodies = file1.readlines()\n",
    "file1.close()"
   ]
  },
  {
   "cell_type": "code",
   "execution_count": 525,
   "metadata": {},
   "outputs": [],
   "source": [
    "def convert_to_dictionary(goodies):\n",
    "    diction = {}\n",
    "    for i in range(1,len(goodies)):\n",
    "        temp_list = goodies[i].split(\":\")\n",
    "        diction[temp_list[0]] = int(temp_list[1])\n",
    "    return diction\n"
   ]
  },
  {
   "cell_type": "code",
   "execution_count": 526,
   "metadata": {},
   "outputs": [],
   "source": [
    "diction = convert_to_dictionary(goodies)\n",
    "values = list(diction.values())\n",
    "difference = 100000000\n",
    "first = values[0]\n",
    "second = values[1]\n",
    "for i in range(len(values)):\n",
    "    for j in range(i+1,len(values)):\n",
    "        if abs(values[i]-values[j]) < difference:\n",
    "            difference=abs(values[i]-values[j])\n",
    "            first=values[i]\n",
    "            second=values[j]\n",
    "\n",
    "    "
   ]
  },
  {
   "cell_type": "code",
   "execution_count": null,
   "metadata": {},
   "outputs": [],
   "source": []
  },
  {
   "cell_type": "code",
   "execution_count": 527,
   "metadata": {},
   "outputs": [
    {
     "name": "stdout",
     "output_type": "stream",
     "text": [
      "Alexa\n",
      "Microwave Oven\n"
     ]
    }
   ],
   "source": [
    "def get_key(val): \n",
    "    for key, value in diction.items(): \n",
    "         if val == value:\n",
    "                print(key)\n",
    "                return key \n",
    "temp_list = [get_key(temp_list1[0]),get_key(temp_list1[1])]\n"
   ]
  },
  {
   "cell_type": "code",
   "execution_count": 528,
   "metadata": {},
   "outputs": [],
   "source": [
    "def find_bestvalues(diction,temp_list,n):\n",
    "    list1= []\n",
    "    for k in diction:\n",
    "            if k not in temp_list:\n",
    "                list1.append([abs(diction[k]-temp_list1[0]),k])\n",
    "                list1.append([abs(diction[k]-temp_list1[1]),k])\n",
    "    while len(temp_list)<n:\n",
    "        minimum = min(list1)[1]\n",
    "        if minimum in temp_list:\n",
    "            list1.remove(min(list1))\n",
    "        temp_list.append(min(list1)[1])\n",
    "        list1.remove(min(list1))\n",
    "    return temp_list"
   ]
  },
  {
   "cell_type": "code",
   "execution_count": null,
   "metadata": {},
   "outputs": [],
   "source": []
  },
  {
   "cell_type": "code",
   "execution_count": 529,
   "metadata": {},
   "outputs": [],
   "source": [
    "file2 = open(\"output.txt\",\"w\")\n",
    "goods = temp_list\n",
    "dict1 = {}\n",
    "for i in [2,4,6]:\n",
    "    file2.write(\"number of employees are :\")\n",
    "    file2.write(str(i))\n",
    "    file2.write(\"\\n\")\n",
    "    file2.write(\"Here the goodies that are selected for distribution are:\\n\")\n",
    "    goods = find_bestvalues(diction,temp_list,i)\n",
    "    for j in goods:\n",
    "        dict1[j] = diction[j]\n",
    "        file2.write(j)\n",
    "        file2.write(\":\")\n",
    "        file2.write(str(diction[j]))\n",
    "        file2.write(\"\\n\")\n",
    "    sorted_values = sorted(dict1.values())\n",
    "    diff = sorted_values[len(sorted_values)-1] - sorted_values[0]\n",
    "    file2.write(\"And the difference between the chosen goodie with highest price and the lowest price is :\")\n",
    "    file2.write(str(diff))\n",
    "    file2.write(\"\\n-----------------------------\\n\")\n",
    "file2.close()"
   ]
  },
  {
   "cell_type": "code",
   "execution_count": 530,
   "metadata": {},
   "outputs": [
    {
     "name": "stdout",
     "output_type": "stream",
     "text": [
      "['number of employees are :2\\n', 'Here the goodies that are selected for distribution are:\\n', 'Alexa:9999\\n', 'Microwave Oven:9800\\n', 'And the difference between the chosen goodie with highest price and the lowest price is :199\\n', '-----------------------------\\n', 'number of employees are :4\\n', 'Here the goodies that are selected for distribution are:\\n', 'Alexa:9999\\n', 'Microwave Oven:9800\\n', 'Digital Camera:11101\\n', 'Fitbit Plus:7980\\n', 'And the difference between the chosen goodie with highest price and the lowest price is :3121\\n', '-----------------------------\\n', 'number of employees are :6\\n', 'Here the goodies that are selected for distribution are:\\n', 'Alexa:9999\\n', 'Microwave Oven:9800\\n', 'Digital Camera:11101\\n', 'Fitbit Plus:7980\\n', 'Scale:4999\\n', 'Cult Pass:2799\\n', 'And the difference between the chosen goodie with highest price and the lowest price is :8302\\n', '-----------------------------\\n']\n"
     ]
    }
   ],
   "source": [
    "file2 = open(\"output.txt\",\"r\")\n",
    "print(file2.readlines())\n",
    "file2.close()"
   ]
  },
  {
   "cell_type": "code",
   "execution_count": null,
   "metadata": {},
   "outputs": [],
   "source": [
    "\n"
   ]
  }
 ],
 "metadata": {
  "kernelspec": {
   "display_name": "Python 3",
   "language": "python",
   "name": "python3"
  },
  "language_info": {
   "codemirror_mode": {
    "name": "ipython",
    "version": 3
   },
   "file_extension": ".py",
   "mimetype": "text/x-python",
   "name": "python",
   "nbconvert_exporter": "python",
   "pygments_lexer": "ipython3",
   "version": "3.6.4"
  }
 },
 "nbformat": 4,
 "nbformat_minor": 2
}
